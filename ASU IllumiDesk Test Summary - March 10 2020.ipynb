{
 "cells": [
  {
   "cell_type": "markdown",
   "metadata": {},
   "source": [
    "# ASU / IllumiDesk LTI 1.3 Testing Notes"
   ]
  },
  {
   "cell_type": "markdown",
   "metadata": {},
   "source": [
    "## Overview"
   ]
  },
  {
   "cell_type": "markdown",
   "metadata": {},
   "source": [
    "This document summarizes the test results when testing the **LTI 1.3 authentication flow between Arizona State University's Canvas LMS instance and the IllumiDesk external tool**. Additionally, this document provides some action items to streamline the installation process and to better handle edge cases."
   ]
  },
  {
   "cell_type": "markdown",
   "metadata": {},
   "source": [
    "## IllumiDesk's Current Authentication Workflow with Canvas / LTI 1.3"
   ]
  },
  {
   "cell_type": "markdown",
   "metadata": {},
   "source": [
    "The first step is to [install the IllumiDesk external tool](https://docs.illumidesk.com/v2.0) within the Canvas LMS and activate the tool within a course. Once these tasks are completed, users are able to launch the external tool from the course navigation menu or by clicking on assignment link(s).\n",
    "\n",
    "The authentication workflow consists to three general steps:\n",
    "\n",
    "1. Decode payload with private/public key pairs\n",
    "2. Validate the request payload as LTI 1.3 compliant\n",
    "3. Obtain email address from user's payload and associate it to the username\n",
    "4. Import users enrolled in the course\n",
    "\n",
    "Regarding the `username` task, the IllumiDesk application uses the following rules to associate an identifier to the `username`:\n",
    "\n",
    "1. Decode request payload and dump to dictionary (JSON)\n",
    "2. Associate the username by normalizing the characters within the user's email address before the `@` symbol. For example, if the user's email is `foo_bar.12@example.com` the username would be `foobar12`.\n",
    "\n",
    "This snippet provides an example of how the email value is obtained from the `email` key which is then passed to the `normalize_email` function:\n",
    "\n",
    "```python\n",
    "username = normalize_email(decoded_json_payload['email'])\n",
    "```\n",
    "\n",
    "If the email is not present of there is an error normalizing the email then the application will return a `500 error` to the user.\n"
   ]
  },
  {
   "cell_type": "markdown",
   "metadata": {},
   "source": [
    "## Testing Summary\n",
    "\n",
    "During testing, additional logs were added to capture the raw LTI 1.3 compatible request payload after it was successfully decoded. The original result is attached in the `lti13_request.json` document.\n",
    "\n",
    "With a valid `json` document stored in memory the application is then able to search of `keys` within the json document and obtain the `values` associated to those `keys`."
   ]
  },
  {
   "cell_type": "markdown",
   "metadata": {},
   "source": [
    "### Key/Value Pairs in Decoded Payload"
   ]
  },
  {
   "cell_type": "markdown",
   "metadata": {},
   "source": [
    "Many methods are available to view specific `key/value` pairs within the JSON object. The examples below are provided in **Python 3**.\n",
    "\n",
    "Let us print the original payload to get a feel for the data provided in the `JSON` format."
   ]
  },
  {
   "cell_type": "code",
   "execution_count": 1,
   "metadata": {},
   "outputs": [
    {
     "name": "stdout",
     "output_type": "stream",
     "text": [
      "{\n",
      "    \"aud\": \"127470000000000057\",\n",
      "    \"azp\": \"127470000000000057\",\n",
      "    \"email\": \"suave77@asu.edu\",\n",
      "    \"errors\": {\n",
      "        \"errors\": {}\n",
      "    },\n",
      "    \"exp\": 1583869352,\n",
      "    \"family_name\": \"EX\",\n",
      "    \"given_name\": \"Luke William Dorsett\",\n",
      "    \"https://purl.imsglobal.org/spec/lti-ags/claim/endpoint\": {\n",
      "        \"errors\": {\n",
      "            \"errors\": {}\n",
      "        },\n",
      "        \"lineitems\": \"https://asu-dev.instructure.com/api/lti/courses/249/line_items\",\n",
      "        \"scope\": [\n",
      "            \"https://purl.imsglobal.org/spec/lti-ags/scope/lineitem\",\n",
      "            \"https://purl.imsglobal.org/spec/lti-ags/scope/lineitem.readonly\",\n",
      "            \"https://purl.imsglobal.org/spec/lti-ags/scope/result.readonly\",\n",
      "            \"https://purl.imsglobal.org/spec/lti-ags/scope/score\"\n",
      "        ],\n",
      "        \"validation_context\": \"\"\n",
      "    },\n",
      "    \"https://purl.imsglobal.org/spec/lti-nrps/claim/namesroleservice\": {\n",
      "        \"context_memberships_url\": \"https://asu-dev.instructure.com/api/lti/courses/249/names_and_roles\",\n",
      "        \"errors\": {\n",
      "            \"errors\": {}\n",
      "        },\n",
      "        \"service_versions\": [\n",
      "            \"2.0\"\n",
      "        ],\n",
      "        \"validation_context\": \"\"\n",
      "    },\n",
      "    \"https://purl.imsglobal.org/spec/lti/claim/context\": {\n",
      "        \"errors\": {\n",
      "            \"errors\": {}\n",
      "        },\n",
      "        \"id\": \"c55d6401fdf909a225cc53a8d7c4994e5fc77506\",\n",
      "        \"label\": \"DEV-Illumidesk2020\",\n",
      "        \"title\": \"Illumidesk LTI 1.3\",\n",
      "        \"type\": [\n",
      "            \"http://purl.imsglobal.org/vocab/lis/v2/course#CourseOffering\"\n",
      "        ],\n",
      "        \"validation_context\": \"\"\n",
      "    },\n",
      "    \"https://purl.imsglobal.org/spec/lti/claim/custom\": {},\n",
      "    \"https://purl.imsglobal.org/spec/lti/claim/deployment_id\": \"539:c55d6401fdf909a225cc53a8d7c4994e5fc77506\",\n",
      "    \"https://purl.imsglobal.org/spec/lti/claim/launch_presentation\": {\n",
      "        \"document_target\": \"iframe\",\n",
      "        \"errors\": {\n",
      "            \"errors\": {}\n",
      "        },\n",
      "        \"height\": 400,\n",
      "        \"locale\": \"en\",\n",
      "        \"return_url\": \"https://asu-dev.instructure.com/courses/249/external_content/success/external_tool_redirect\",\n",
      "        \"validation_context\": \"\",\n",
      "        \"width\": 800\n",
      "    },\n",
      "    \"https://purl.imsglobal.org/spec/lti/claim/lis\": {\n",
      "        \"course_offering_sourcedid\": \"\",\n",
      "        \"errors\": {\n",
      "            \"errors\": {}\n",
      "        },\n",
      "        \"person_sourcedid\": \"ex_suave77\",\n",
      "        \"validation_context\": \"\"\n",
      "    },\n",
      "    \"https://purl.imsglobal.org/spec/lti/claim/message_type\": \"LtiResourceLinkRequest\",\n",
      "    \"https://purl.imsglobal.org/spec/lti/claim/resource_link\": {\n",
      "        \"description\": \"\",\n",
      "        \"errors\": {\n",
      "            \"errors\": {}\n",
      "        },\n",
      "        \"id\": \"c55d6401fdf909a225cc53a8d7c4994e5fc77506\",\n",
      "        \"title\": \"\",\n",
      "        \"validation_context\": \"\"\n",
      "    },\n",
      "    \"https://purl.imsglobal.org/spec/lti/claim/roles\": [\n",
      "        \"http://purl.imsglobal.org/vocab/lis/v2/institution/person#Administrator\",\n",
      "        \"http://purl.imsglobal.org/vocab/lis/v2/institution/person#Instructor\",\n",
      "        \"http://purl.imsglobal.org/vocab/lis/v2/membership#Instructor\",\n",
      "        \"http://purl.imsglobal.org/vocab/lis/v2/system/person#User\"\n",
      "    ],\n",
      "    \"https://purl.imsglobal.org/spec/lti/claim/target_link_uri\": \"https://asu.illumnidesk.com/hub/home\",\n",
      "    \"https://purl.imsglobal.org/spec/lti/claim/tool_platform\": {\n",
      "        \"errors\": {\n",
      "            \"errors\": {}\n",
      "        },\n",
      "        \"guid\": \"kucFCdgLqdHHdMFwSbgH61ebjrRqrAW9ycKVg2OY:canvas-lms\",\n",
      "        \"name\": \"Arizona State University - Dev\",\n",
      "        \"product_family_code\": \"canvas\",\n",
      "        \"validation_context\": \"\",\n",
      "        \"version\": \"cloud\"\n",
      "    },\n",
      "    \"https://purl.imsglobal.org/spec/lti/claim/version\": \"1.3.0\",\n",
      "    \"iat\": 1583865752,\n",
      "    \"iss\": \"https://canvas.instructure.com\",\n",
      "    \"locale\": \"en\",\n",
      "    \"name\": \"Luke William Dorsett EX\",\n",
      "    \"nonce\": \"123837514805708872371583865753\",\n",
      "    \"picture\": \"https://canvas.instructure.com/images/messages/avatar-50.png\",\n",
      "    \"sub\": \"6380f84d-26be-4d87-8219-bb08650efd07\"\n",
      "}\n"
     ]
    }
   ],
   "source": [
    "import json\n",
    "\n",
    "with open('lti13_request.json') as f:\n",
    "    \n",
    "    # Load the json data form a file\n",
    "    data = json.load(f)\n",
    "\n",
    "    # Pretty Printing JSON string back\n",
    "    print(json.dumps(data, indent = 4, sort_keys=True))"
   ]
  },
  {
   "cell_type": "markdown",
   "metadata": {},
   "source": [
    "```json\n",
    "{\n",
    "    \"aud\": \"127470000000000057\",\n",
    "    \"azp\": \"127470000000000057\",\n",
    "    \"email\": \"suave77@asu.edu\",\n",
    "    \"errors\": {\n",
    "        \"errors\": {}\n",
    "    },\n",
    "    \"exp\": 1583869352,\n",
    "    \"family_name\": \"EX\",\n",
    "    \"given_name\": \"Luke William Dorsett\",\n",
    "    \"https://purl.imsglobal.org/spec/lti-ags/claim/endpoint\": {\n",
    "        \"errors\": {\n",
    "            \"errors\": {}\n",
    "        },\n",
    "        \"lineitems\": \"https://asu-dev.instructure.com/api/lti/courses/249/line_items\",\n",
    "        \"scope\": [\n",
    "            \"https://purl.imsglobal.org/spec/lti-ags/scope/lineitem\",\n",
    "            \"https://purl.imsglobal.org/spec/lti-ags/scope/lineitem.readonly\",\n",
    "            \"https://purl.imsglobal.org/spec/lti-ags/scope/result.readonly\",\n",
    "            \"https://purl.imsglobal.org/spec/lti-ags/scope/score\"\n",
    "        ],\n",
    "        \"validation_context\": \"\"\n",
    "    },\n",
    "    \"https://purl.imsglobal.org/spec/lti-nrps/claim/namesroleservice\": {\n",
    "        \"context_memberships_url\": \"https://asu-dev.instructure.com/api/lti/courses/249/names_and_roles\",\n",
    "        \"errors\": {\n",
    "            \"errors\": {}\n",
    "        },\n",
    "        \"service_versions\": [\n",
    "            \"2.0\"\n",
    "        ],\n",
    "        \"validation_context\": \"\"\n",
    "    },\n",
    "    \"https://purl.imsglobal.org/spec/lti/claim/context\": {\n",
    "        \"errors\": {\n",
    "            \"errors\": {}\n",
    "        },\n",
    "        \"id\": \"c55d6401fdf909a225cc53a8d7c4994e5fc77506\",\n",
    "        \"label\": \"DEV-Illumidesk2020\",\n",
    "        \"title\": \"Illumidesk LTI 1.3\",\n",
    "        \"type\": [\n",
    "            \"http://purl.imsglobal.org/vocab/lis/v2/course#CourseOffering\"\n",
    "        ],\n",
    "        \"validation_context\": \"\"\n",
    "    },\n",
    "    \"https://purl.imsglobal.org/spec/lti/claim/custom\": {},\n",
    "    \"https://purl.imsglobal.org/spec/lti/claim/deployment_id\": \"539:c55d6401fdf909a225cc53a8d7c4994e5fc77506\",\n",
    "    \"https://purl.imsglobal.org/spec/lti/claim/launch_presentation\": {\n",
    "        \"document_target\": \"iframe\",\n",
    "        \"errors\": {\n",
    "            \"errors\": {}\n",
    "        },\n",
    "        \"height\": 400,\n",
    "        \"locale\": \"en\",\n",
    "        \"return_url\": \"https://asu-dev.instructure.com/courses/249/external_content/success/external_tool_redirect\",\n",
    "        \"validation_context\": \"\",\n",
    "        \"width\": 800\n",
    "    },\n",
    "    \"https://purl.imsglobal.org/spec/lti/claim/lis\": {\n",
    "        \"course_offering_sourcedid\": \"\",\n",
    "        \"errors\": {\n",
    "            \"errors\": {}\n",
    "        },\n",
    "        \"person_sourcedid\": \"ex_suave77\",\n",
    "        \"validation_context\": \"\"\n",
    "    },\n",
    "    \"https://purl.imsglobal.org/spec/lti/claim/message_type\": \"LtiResourceLinkRequest\",\n",
    "    \"https://purl.imsglobal.org/spec/lti/claim/resource_link\": {\n",
    "        \"description\": \"\",\n",
    "        \"errors\": {\n",
    "            \"errors\": {}\n",
    "        },\n",
    "        \"id\": \"c55d6401fdf909a225cc53a8d7c4994e5fc77506\",\n",
    "        \"title\": \"\",\n",
    "        \"validation_context\": \"\"\n",
    "    },\n",
    "    \"https://purl.imsglobal.org/spec/lti/claim/roles\": [\n",
    "        \"http://purl.imsglobal.org/vocab/lis/v2/institution/person#Administrator\",\n",
    "        \"http://purl.imsglobal.org/vocab/lis/v2/institution/person#Instructor\",\n",
    "        \"http://purl.imsglobal.org/vocab/lis/v2/membership#Instructor\",\n",
    "        \"http://purl.imsglobal.org/vocab/lis/v2/system/person#User\"\n",
    "    ],\n",
    "    \"https://purl.imsglobal.org/spec/lti/claim/target_link_uri\": \"https://asu.illumnidesk.com/hub/home\",\n",
    "    \"https://purl.imsglobal.org/spec/lti/claim/tool_platform\": {\n",
    "        \"errors\": {\n",
    "            \"errors\": {}\n",
    "        },\n",
    "        \"guid\": \"kucFCdgLqdHHdMFwSbgH61ebjrRqrAW9ycKVg2OY:canvas-lms\",\n",
    "        \"name\": \"Arizona State University - Dev\",\n",
    "        \"product_family_code\": \"canvas\",\n",
    "        \"validation_context\": \"\",\n",
    "        \"version\": \"cloud\"\n",
    "    },\n",
    "    \"https://purl.imsglobal.org/spec/lti/claim/version\": \"1.3.0\",\n",
    "    \"iat\": 1583865752,\n",
    "    \"iss\": \"https://canvas.instructure.com\",\n",
    "    \"locale\": \"en\",\n",
    "    \"name\": \"Luke William Dorsett EX\",\n",
    "    \"nonce\": \"123837514805708872371583865753\",\n",
    "    \"picture\": \"https://canvas.instructure.com/images/messages/avatar-50.png\",\n",
    "    \"sub\": \"6380f84d-26be-4d87-8219-bb08650efd07\"\n",
    "}\n",
    "```"
   ]
  },
  {
   "cell_type": "markdown",
   "metadata": {},
   "source": [
    "There are several important keys available, but for the purposes of these tests we are interested in:\n",
    "    \n",
    "1. Keys/Values that uniquely identify the user within the Canvas LMS course\n",
    "2. User's role (Instructor or Student)\n",
    "\n",
    "Therefore to obtain a user's email address, we could do something like so:"
   ]
  },
  {
   "cell_type": "code",
   "execution_count": 2,
   "metadata": {},
   "outputs": [
    {
     "name": "stdout",
     "output_type": "stream",
     "text": [
      "suave77@asu.edu\n"
     ]
    }
   ],
   "source": [
    "with open('lti13_request.json') as f:\n",
    "    \n",
    "    # Load the json data form a file\n",
    "    data = json.load(f)\n",
    "    \n",
    "    # Get the user's email\n",
    "    username = data['email']\n",
    "    \n",
    "    # Print the username\n",
    "    print(username)"
   ]
  },
  {
   "cell_type": "markdown",
   "metadata": {},
   "source": [
    "It is also simple to obtain LTI 1.3 compatible items. For example, to obtain the user's role you can fetch a nested key/values from the decoded payload to verify the authenticated user's role:"
   ]
  },
  {
   "cell_type": "code",
   "execution_count": 3,
   "metadata": {},
   "outputs": [
    {
     "name": "stdout",
     "output_type": "stream",
     "text": [
      "Instructor\n"
     ]
    }
   ],
   "source": [
    "with open('lti13_request.json') as f:\n",
    "    \n",
    "    # Load the json data form a file\n",
    "    data = json.load(f)\n",
    "    \n",
    "    # Associate the user to the Learner role by default\n",
    "    user_role = 'Learner'\n",
    "    \n",
    "    # Check user's role\n",
    "    if ('http://purl.imsglobal.org/vocab/lis/v2/membership#Instructor' \n",
    "        in data['https://purl.imsglobal.org/spec/lti/claim/roles']):\n",
    "        user_role = 'Instructor'\n",
    "    \n",
    "    # Print the username\n",
    "    print(user_role)"
   ]
  },
  {
   "cell_type": "markdown",
   "metadata": {},
   "source": [
    "### Errors Encoutered"
   ]
  },
  {
   "cell_type": "markdown",
   "metadata": {},
   "source": [
    "Errors were encountered primarily when fetching key/values from the decoded payload to set the `username`. Also, there were some request errors when fetching all user's from the Canvas LMS course. These errors seem to reflect edge cases IllumiDesk has not encountered with their own Canvas LMS development environment hosted at https://illumidesk.instructure.com.\n"
   ]
  },
  {
   "cell_type": "markdown",
   "metadata": {},
   "source": [
    "## Action Items"
   ]
  },
  {
   "cell_type": "markdown",
   "metadata": {},
   "source": [
    "### IllumiDesk\n",
    "\n",
    "There are two general items:\n",
    "\n",
    "1. Activate the IllumIDesk application with LTI 1.1\n",
    "2. Update the LTI 1.3 authentication and user import flow\n",
    "\n",
    "The LTI 1.1 development environment has been provisioned, therefore item 2 above is in the pending state.\n",
    "\n",
    "IllumiDesk is in the process of adjusting the authentication flow to set the username to use the `person_sourcedid` by the evening of March 15th. Additionally, the tasks associated with importing user data from the Canvas LMS course are being refactored to better separate concerns so that errors during the user fetch tasks do not affect the authentication flow.\n",
    "\n",
    "> **Note**: users and their respective roles are imported to enable Auto-Grading features and so Instructors and post grades from the external tool to the LMS.\n",
    "\n",
    "Below is an example of how to fetch the `person_sourcedid` value:"
   ]
  },
  {
   "cell_type": "code",
   "execution_count": 4,
   "metadata": {},
   "outputs": [
    {
     "name": "stdout",
     "output_type": "stream",
     "text": [
      "Instructor\n"
     ]
    }
   ],
   "source": [
    "with open('lti13_request.json') as f:\n",
    "    \n",
    "    # Load the json data form a file\n",
    "    data = json.load(f)\n",
    "    \n",
    "    # Associate the user to the Learner role by default\n",
    "    user_role = 'Learner'\n",
    "    \n",
    "    # Check user's role\n",
    "    if ('http://purl.imsglobal.org/vocab/lis/v2/membership#Instructor' \n",
    "        in data['https://purl.imsglobal.org/spec/lti/claim/roles']):\n",
    "        user_role = 'Instructor'\n",
    "    \n",
    "    # Print the username\n",
    "    print(user_role)"
   ]
  },
  {
   "cell_type": "markdown",
   "metadata": {},
   "source": [
    "### Arizon State University\n",
    "\n",
    "Validate implementation with LTI 1.1 and notify IllumiDesk when further testing with LTI 1.3 is available."
   ]
  },
  {
   "cell_type": "code",
   "execution_count": null,
   "metadata": {},
   "outputs": [],
   "source": []
  }
 ],
 "metadata": {
  "kernelspec": {
   "display_name": "Python 3",
   "language": "python",
   "name": "python3"
  },
  "language_info": {
   "codemirror_mode": {
    "name": "ipython",
    "version": 3
   },
   "file_extension": ".py",
   "mimetype": "text/x-python",
   "name": "python",
   "nbconvert_exporter": "python",
   "pygments_lexer": "ipython3",
   "version": "3.8.1"
  }
 },
 "nbformat": 4,
 "nbformat_minor": 2
}
