{
 "cells": [
  {
   "cell_type": "code",
   "execution_count": 1,
   "metadata": {},
   "outputs": [
    {
     "name": "stdout",
     "output_type": "stream",
     "text": [
      "{\n",
      "    \"aud\": \"127470000000000057\",\n",
      "    \"azp\": \"127470000000000057\",\n",
      "    \"email\": \"suave77@asu.edu\",\n",
      "    \"errors\": {\n",
      "        \"errors\": {}\n",
      "    },\n",
      "    \"exp\": 1583869352,\n",
      "    \"family_name\": \"EX\",\n",
      "    \"given_name\": \"Luke William Dorsett\",\n",
      "    \"https://purl.imsglobal.org/spec/lti-ags/claim/endpoint\": {\n",
      "        \"errors\": {\n",
      "            \"errors\": {}\n",
      "        },\n",
      "        \"lineitems\": \"https://asu-dev.instructure.com/api/lti/courses/249/line_items\",\n",
      "        \"scope\": [\n",
      "            \"https://purl.imsglobal.org/spec/lti-ags/scope/lineitem\",\n",
      "            \"https://purl.imsglobal.org/spec/lti-ags/scope/lineitem.readonly\",\n",
      "            \"https://purl.imsglobal.org/spec/lti-ags/scope/result.readonly\",\n",
      "            \"https://purl.imsglobal.org/spec/lti-ags/scope/score\"\n",
      "        ],\n",
      "        \"validation_context\": \"\"\n",
      "    },\n",
      "    \"https://purl.imsglobal.org/spec/lti-nrps/claim/namesroleservice\": {\n",
      "        \"context_memberships_url\": \"https://asu-dev.instructure.com/api/lti/courses/249/names_and_roles\",\n",
      "        \"errors\": {\n",
      "            \"errors\": {}\n",
      "        },\n",
      "        \"service_versions\": [\n",
      "            \"2.0\"\n",
      "        ],\n",
      "        \"validation_context\": \"\"\n",
      "    },\n",
      "    \"https://purl.imsglobal.org/spec/lti/claim/context\": {\n",
      "        \"errors\": {\n",
      "            \"errors\": {}\n",
      "        },\n",
      "        \"id\": \"c55d6401fdf909a225cc53a8d7c4994e5fc77506\",\n",
      "        \"label\": \"DEV-Illumidesk2020\",\n",
      "        \"title\": \"Illumidesk LTI 1.3\",\n",
      "        \"type\": [\n",
      "            \"http://purl.imsglobal.org/vocab/lis/v2/course#CourseOffering\"\n",
      "        ],\n",
      "        \"validation_context\": \"\"\n",
      "    },\n",
      "    \"https://purl.imsglobal.org/spec/lti/claim/custom\": {},\n",
      "    \"https://purl.imsglobal.org/spec/lti/claim/deployment_id\": \"539:c55d6401fdf909a225cc53a8d7c4994e5fc77506\",\n",
      "    \"https://purl.imsglobal.org/spec/lti/claim/launch_presentation\": {\n",
      "        \"document_target\": \"iframe\",\n",
      "        \"errors\": {\n",
      "            \"errors\": {}\n",
      "        },\n",
      "        \"height\": 400,\n",
      "        \"locale\": \"en\",\n",
      "        \"return_url\": \"https://asu-dev.instructure.com/courses/249/external_content/success/external_tool_redirect\",\n",
      "        \"validation_context\": \"\",\n",
      "        \"width\": 800\n",
      "    },\n",
      "    \"https://purl.imsglobal.org/spec/lti/claim/lis\": {\n",
      "        \"course_offering_sourcedid\": \"\",\n",
      "        \"errors\": {\n",
      "            \"errors\": {}\n",
      "        },\n",
      "        \"person_sourcedid\": \"ex_suave77\",\n",
      "        \"validation_context\": \"\"\n",
      "    },\n",
      "    \"https://purl.imsglobal.org/spec/lti/claim/message_type\": \"LtiResourceLinkRequest\",\n",
      "    \"https://purl.imsglobal.org/spec/lti/claim/resource_link\": {\n",
      "        \"description\": \"\",\n",
      "        \"errors\": {\n",
      "            \"errors\": {}\n",
      "        },\n",
      "        \"id\": \"c55d6401fdf909a225cc53a8d7c4994e5fc77506\",\n",
      "        \"title\": \"\",\n",
      "        \"validation_context\": \"\"\n",
      "    },\n",
      "    \"https://purl.imsglobal.org/spec/lti/claim/roles\": [\n",
      "        \"http://purl.imsglobal.org/vocab/lis/v2/institution/person#Administrator\",\n",
      "        \"http://purl.imsglobal.org/vocab/lis/v2/institution/person#Instructor\",\n",
      "        \"http://purl.imsglobal.org/vocab/lis/v2/membership#Instructor\",\n",
      "        \"http://purl.imsglobal.org/vocab/lis/v2/system/person#User\"\n",
      "    ],\n",
      "    \"https://purl.imsglobal.org/spec/lti/claim/target_link_uri\": \"https://asu.illumnidesk.com/hub/home\",\n",
      "    \"https://purl.imsglobal.org/spec/lti/claim/tool_platform\": {\n",
      "        \"errors\": {\n",
      "            \"errors\": {}\n",
      "        },\n",
      "        \"guid\": \"kucFCdgLqdHHdMFwSbgH61ebjrRqrAW9ycKVg2OY:canvas-lms\",\n",
      "        \"name\": \"Arizona State University - Dev\",\n",
      "        \"product_family_code\": \"canvas\",\n",
      "        \"validation_context\": \"\",\n",
      "        \"version\": \"cloud\"\n",
      "    },\n",
      "    \"https://purl.imsglobal.org/spec/lti/claim/version\": \"1.3.0\",\n",
      "    \"iat\": 1583865752,\n",
      "    \"iss\": \"https://canvas.instructure.com\",\n",
      "    \"locale\": \"en\",\n",
      "    \"name\": \"Luke William Dorsett EX\",\n",
      "    \"nonce\": \"123837514805708872371583865753\",\n",
      "    \"picture\": \"https://canvas.instructure.com/images/messages/avatar-50.png\",\n",
      "    \"sub\": \"6380f84d-26be-4d87-8219-bb08650efd07\"\n",
      "}\n"
     ]
    }
   ],
   "source": [
    "import json\n",
    "\n",
    "with open('lti13_request.json') as f:\n",
    "    \n",
    "    # Load the json data form a file\n",
    "    data = json.load(f)\n",
    "\n",
    "    # Pretty Printing JSON string back\n",
    "    print(json.dumps(data, indent = 4, sort_keys=True))"
   ]
  },
  {
   "cell_type": "code",
   "execution_count": 2,
   "metadata": {},
   "outputs": [
    {
     "name": "stdout",
     "output_type": "stream",
     "text": [
      "Instructor\n"
     ]
    }
   ],
   "source": [
    "with open('lti13_request.json') as f:\n",
    "    \n",
    "    # Load the json data form a file\n",
    "    data = json.load(f)\n",
    "    \n",
    "    # Associate the user to the Learner role by default\n",
    "    user_role = 'Learner'\n",
    "    \n",
    "    # Check user's role\n",
    "    if ('http://purl.imsglobal.org/vocab/lis/v2/membership#Instructor' \n",
    "        in data['https://purl.imsglobal.org/spec/lti/claim/roles']):\n",
    "        user_role = 'Instructor'\n",
    "    \n",
    "    # Print the username\n",
    "    print(user_role)"
   ]
  },
  {
   "cell_type": "code",
   "execution_count": 3,
   "metadata": {},
   "outputs": [
    {
     "name": "stdout",
     "output_type": "stream",
     "text": [
      "The original dictionary is : {'Gfg': {'is': 'best'}}\n",
      "The nested safely accessed value is :  best\n"
     ]
    }
   ],
   "source": [
    "# initializing dictionary \n",
    "test_dict = {'Gfg' : {'is' : 'best'}} \n",
    "  \n",
    "# printing original dictionary \n",
    "print(\"The original dictionary is : \" + str(test_dict)) \n",
    "  \n",
    "# using nested get() \n",
    "# Safe access nested dictionary key \n",
    "res = test_dict.get('Gfg', {}).get('is') \n",
    "  \n",
    "# printing result \n",
    "print(\"The nested safely accessed value is :  \" + str(res)) "
   ]
  },
  {
   "cell_type": "code",
   "execution_count": 4,
   "metadata": {},
   "outputs": [
    {
     "ename": "TypeError",
     "evalue": "unhashable type: 'dict'",
     "output_type": "error",
     "traceback": [
      "\u001b[0;31m---------------------------------------------------------------------------\u001b[0m",
      "\u001b[0;31mTypeError\u001b[0m                                 Traceback (most recent call last)",
      "\u001b[0;32m<ipython-input-4-0d9c50af3da0>\u001b[0m in \u001b[0;36m<module>\u001b[0;34m\u001b[0m\n\u001b[1;32m      7\u001b[0m     \u001b[0muser_role\u001b[0m \u001b[0;34m=\u001b[0m \u001b[0;34m'Learner'\u001b[0m\u001b[0;34m\u001b[0m\u001b[0;34m\u001b[0m\u001b[0m\n\u001b[1;32m      8\u001b[0m \u001b[0;34m\u001b[0m\u001b[0m\n\u001b[0;32m----> 9\u001b[0;31m     \u001b[0mres\u001b[0m \u001b[0;34m=\u001b[0m \u001b[0mtest_dict\u001b[0m\u001b[0;34m.\u001b[0m\u001b[0mget\u001b[0m\u001b[0;34m(\u001b[0m\u001b[0mdata\u001b[0m\u001b[0;34m)\u001b[0m\u001b[0;34m\u001b[0m\u001b[0;34m\u001b[0m\u001b[0m\n\u001b[0m\u001b[1;32m     10\u001b[0m \u001b[0;34m\u001b[0m\u001b[0m\n\u001b[1;32m     11\u001b[0m     \u001b[0;31m# Check user's role\u001b[0m\u001b[0;34m\u001b[0m\u001b[0;34m\u001b[0m\u001b[0;34m\u001b[0m\u001b[0m\n",
      "\u001b[0;31mTypeError\u001b[0m: unhashable type: 'dict'"
     ]
    }
   ],
   "source": [
    "with open('lti13_request.json') as f:\n",
    "    \n",
    "    # Load the json data form a file\n",
    "    data = json.load(f)\n",
    "    \n",
    "    # Associate the user to the Learner role by default\n",
    "    user_role = 'Learner'\n",
    "    \n",
    "    res = test_dict.get(data) \n",
    "    \n",
    "    # Check user's role\n",
    "    if ('http://purl.imsglobal.org/vocab/lis/v2/membership#Instructor' \n",
    "        in data['https://purl.imsglobal.org/spec/lti/claim/roles']):\n",
    "        user_role = 'Instructor'\n",
    "    \n",
    "    # Print the username\n",
    "    print(user_role)"
   ]
  },
  {
   "cell_type": "code",
   "execution_count": 5,
   "metadata": {},
   "outputs": [
    {
     "name": "stdout",
     "output_type": "stream",
     "text": [
      "ex_suave77\n"
     ]
    }
   ],
   "source": [
    "with open('lti13_request.json') as f:\n",
    "    \n",
    "    # Load the json data form a file\n",
    "    data = json.load(f)\n",
    "    \n",
    "    print(data['https://purl.imsglobal.org/spec/lti/claim/lis']['person_sourcedid'])\n",
    "    \n",
    "    # using nested get() \n",
    "    # Safe access nested dictionary key \n",
    "    res = test_dict.get('Gfg', {}).get('is') "
   ]
  },
  {
   "cell_type": "markdown",
   "metadata": {},
   "source": [
    "## Check User Role with FirstUseAuthenticator"
   ]
  },
  {
   "cell_type": "code",
   "execution_count": null,
   "metadata": {},
   "outputs": [],
   "source": []
  },
  {
   "cell_type": "code",
   "execution_count": 6,
   "metadata": {},
   "outputs": [
    {
     "name": "stdout",
     "output_type": "stream",
     "text": [
      "The original dictionary is : {'formgrade-course101': ['instructor1', 'instructor2', 'grader-course101'], 'nbgrader-course101': ['student1', 'bitdiddle', 'hacker', 'reasoner']}\n",
      "Instructor exists\n"
     ]
    }
   ],
   "source": [
    "# initializing dictionary \n",
    "load_groups = {\n",
    "    'formgrade-course101': [\n",
    "        'instructor1',\n",
    "        'instructor2',\n",
    "        'grader-course101',\n",
    "    ],\n",
    "    'nbgrader-course101': ['student1', 'bitdiddle', 'hacker', 'reasoner',],\n",
    "}\n",
    "  \n",
    "# printing original dictionary \n",
    "print(\"The original dictionary is : \" + str(load_groups)) \n",
    "  \n",
    "# load grader group\n",
    "res = load_groups.get('formgrade-course101')\n",
    "\n",
    "# check if user is a member of the grader group\n",
    "for i in res: \n",
    "    if(i == 'instructor1') : \n",
    "        print (\"Instructor exists\")\n",
    "        break\n",
    "    else:\n",
    "        print('Instructor does not exist')"
   ]
  },
  {
   "cell_type": "code",
   "execution_count": 7,
   "metadata": {},
   "outputs": [],
   "source": [
    "def is_role(self, role):\n",
    "    \"\"\"\n",
    "    Verify if user has an associated LTI 1.1 compliant role\n",
    "    :param: role: role to verify against\n",
    "    :return: if user is in role\n",
    "    :exception: LTIException if role is unknown\n",
    "    \"\"\"\n",
    "    if roles in LTI_ROLES:\n",
    "        role_list = LTI_ROLES[role]\n",
    "        # find the intersection of the roles\n",
    "        roles = set(role_list) & set(roles)\n",
    "        is_user_role_there = len(roles) >= 1\n",
    "        return is_user_role_there\n",
    "    else:\n",
    "        raise LTIException(\"Unknown role {}.\".format(role))\n",
    "\n",
    "    roles = self.session['roles'].split(',')\n",
    "    if role in LTI_ROLES:\n",
    "        role_list = LTI_ROLES[role]\n",
    "        # find the intersection of the roles\n",
    "        roles = set(role_list) & set(roles)\n",
    "        is_user_role_there = len(roles) >= 1\n",
    "        logger.debug(\n",
    "            \"is_role roles_list=%s role=%s in list=%s\", role_list,\n",
    "            roles, is_user_role_there\n",
    "        )\n",
    "        return is_user_role_there\n",
    "    else:\n",
    "        raise Exception(\"Unknown role {}.\".format(role))"
   ]
  },
  {
   "cell_type": "code",
   "execution_count": 9,
   "metadata": {},
   "outputs": [],
   "source": [
    "LTI_ROLES = {\n",
    "    u'staff': [u'Administrator', u'Instructor', ],\n",
    "    u'instructor': [u'Instructor', ],\n",
    "    u'administrator': [u'Administrator', ],\n",
    "    u'student': [u'Student', u'Learner', ]\n",
    "    # There is also a special role u'any' that ignores role check\n",
    "}"
   ]
  },
  {
   "cell_type": "code",
   "execution_count": null,
   "metadata": {},
   "outputs": [],
   "source": []
  },
  {
   "cell_type": "code",
   "execution_count": 11,
   "metadata": {},
   "outputs": [],
   "source": []
  },
  {
   "cell_type": "code",
   "execution_count": 14,
   "metadata": {},
   "outputs": [
    {
     "name": "stdout",
     "output_type": "stream",
     "text": [
      "Role is there\n"
     ]
    }
   ],
   "source": [
    "role = 'Instructor'\n",
    "if role in LTI_ROLES:\n",
    "    print('Role is there')\n",
    "else:\n",
    "    print('Role is not there')"
   ]
  },
  {
   "cell_type": "code",
   "execution_count": 15,
   "metadata": {},
   "outputs": [],
   "source": [
    "LTI_PROPERTY_LIST = [\n",
    "    'oauth_consumer_key',\n",
    "    'launch_presentation_return_url',\n",
    "    'user_id',\n",
    "    'oauth_nonce',\n",
    "    'context_label',\n",
    "    'context_id',\n",
    "    'resource_link_title',\n",
    "    'resource_link_id',\n",
    "    'lis_person_contact_email_primary',\n",
    "    'lis_person_contact_emailprimary',\n",
    "    'lis_person_name_full',\n",
    "    'lis_person_name_family',\n",
    "    'lis_person_name_given',\n",
    "    'lis_result_sourcedid',\n",
    "    'lis_person_sourcedid',\n",
    "    'launch_type',\n",
    "    'lti_message',\n",
    "    'lti_version',\n",
    "    'roles',\n",
    "    'lis_outcome_service_url'\n",
    "]\n"
   ]
  },
  {
   "cell_type": "code",
   "execution_count": 17,
   "metadata": {},
   "outputs": [
    {
     "name": "stdout",
     "output_type": "stream",
     "text": [
      "LTI property is oauth_consumer_key\n",
      "LTI property is launch_presentation_return_url\n",
      "LTI property is user_id\n",
      "LTI property is oauth_nonce\n",
      "LTI property is context_label\n",
      "LTI property is context_id\n",
      "LTI property is resource_link_title\n",
      "LTI property is resource_link_id\n",
      "LTI property is lis_person_contact_email_primary\n",
      "LTI property is lis_person_contact_emailprimary\n",
      "LTI property is lis_person_name_full\n",
      "LTI property is lis_person_name_family\n",
      "LTI property is lis_person_name_given\n",
      "LTI property is lis_result_sourcedid\n",
      "LTI property is lis_person_sourcedid\n",
      "LTI property is launch_type\n",
      "LTI property is lti_message\n",
      "LTI property is lti_version\n",
      "LTI property is roles\n",
      "LTI property is lis_outcome_service_url\n"
     ]
    }
   ],
   "source": [
    "for lti_item in LTI_PROPERTY_LIST:\n",
    "    print('LTI property is ' + lti_item)"
   ]
  },
  {
   "cell_type": "code",
   "execution_count": null,
   "metadata": {},
   "outputs": [],
   "source": []
  }
 ],
 "metadata": {
  "kernelspec": {
   "display_name": "Python 3",
   "language": "python",
   "name": "python3"
  },
  "language_info": {
   "codemirror_mode": {
    "name": "ipython",
    "version": 3
   },
   "file_extension": ".py",
   "mimetype": "text/x-python",
   "name": "python",
   "nbconvert_exporter": "python",
   "pygments_lexer": "ipython3",
   "version": "3.8.1"
  }
 },
 "nbformat": 4,
 "nbformat_minor": 4
}
